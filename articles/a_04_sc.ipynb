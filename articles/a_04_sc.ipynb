{
 "cells": [
  {
   "cell_type": "markdown",
   "id": "1d838fca-5b85-4b59-b7cf-abc4389cc177",
   "metadata": {},
   "source": [
    "# The Discrete Stochastic Gain-Loss in Production Facilities as a Result of an Exogenous Financial Shock"
   ]
  },
  {
   "cell_type": "markdown",
   "id": "ba1deed2-3331-4fdc-9036-0b93624a5320",
   "metadata": {},
   "source": [
    "## Gianmarco Corradini, MS"
   ]
  },
  {
   "cell_type": "markdown",
   "id": "c69ba51a-e114-4a78-b340-6676eacde1be",
   "metadata": {},
   "source": [
    "## April 2024"
   ]
  },
  {
   "cell_type": "markdown",
   "id": "6b5f09aa-4f72-4b45-a7bc-8730630df62b",
   "metadata": {},
   "source": [
    "----------------------"
   ]
  },
  {
   "cell_type": "code",
   "execution_count": 26,
   "id": "9c29294d-dc75-4a79-ac43-b5a7361c30f3",
   "metadata": {},
   "outputs": [],
   "source": [
    "import pandas as pd\n",
    "import numpy as np\n",
    "import math as m\n",
    "import matplotlib as mp\n",
    "import scipy as sp"
   ]
  },
  {
   "cell_type": "markdown",
   "id": "dca6edaa-27bd-4f97-be15-7d359927fcca",
   "metadata": {},
   "source": [
    "--------------"
   ]
  },
  {
   "cell_type": "markdown",
   "id": "a4ae8c82-2bce-4cfe-bee9-55422cf182a1",
   "metadata": {},
   "source": [
    "## 2 Assumption"
   ]
  },
  {
   "cell_type": "markdown",
   "id": "aaf2afd2-9573-4949-96b3-b00b5bfe694c",
   "metadata": {},
   "source": [
    "#### Defining $f_{1}$"
   ]
  },
  {
   "cell_type": "code",
   "execution_count": 27,
   "id": "d1d9a36e-c131-4e5c-aa3d-cfee22f95ec4",
   "metadata": {},
   "outputs": [],
   "source": [
    "def f_1(r):\n",
    "    f_1=(m.exp(-10*r)+10*r-1)/r**2\n",
    "    return f_1"
   ]
  },
  {
   "cell_type": "markdown",
   "id": "1dcfe0e7-6d55-41ff-a620-309af82611cf",
   "metadata": {},
   "source": [
    "#### Defining $\\frac{f_{2}}{\\gamma}$"
   ]
  },
  {
   "cell_type": "code",
   "execution_count": 28,
   "id": "a684534e-4c54-4625-9575-b1e3efc999fe",
   "metadata": {},
   "outputs": [],
   "source": [
    "def f_2_frac_gamma(r):\n",
    "    f_2_frac_gamma=(1-m.exp(-10*r)*(10*r+1))/r**2\n",
    "    return f_2_frac_gamma"
   ]
  },
  {
   "cell_type": "markdown",
   "id": "1d16695c-f82f-46a4-ad1c-c99bd3c98db3",
   "metadata": {},
   "source": [
    "#### Defining $\\frac{f_{3}}{\\delta}$"
   ]
  },
  {
   "cell_type": "code",
   "execution_count": 29,
   "id": "1686bd80-917e-44e9-9db6-1abbce450cc1",
   "metadata": {},
   "outputs": [],
   "source": [
    "def f_3_frac_delta(r):\n",
    "    f_3_frac_delta=(1-m.exp(-10*r))/r\n",
    "    return f_3_frac_delta"
   ]
  },
  {
   "cell_type": "markdown",
   "id": "d215dbe6-9211-40e0-b524-4de287d78de0",
   "metadata": {},
   "source": [
    "## 3 Exogenous Shock in a Discrete Stochastic Enviroment"
   ]
  },
  {
   "cell_type": "markdown",
   "id": "cee57437-f313-49c2-a06e-7bd6bd949905",
   "metadata": {},
   "source": [
    "#### Suppose $r_{t=0}=0.025$"
   ]
  },
  {
   "cell_type": "code",
   "execution_count": 30,
   "id": "011e9151-d806-44ca-9432-8801e7e7fc99",
   "metadata": {},
   "outputs": [],
   "source": [
    "r0=0.025"
   ]
  },
  {
   "cell_type": "code",
   "execution_count": 31,
   "id": "fac3e3f6-5835-48d1-a34a-2f030971b44a",
   "metadata": {},
   "outputs": [],
   "source": [
    "gamma = f_1(r0)/f_2_frac_gamma(r0)"
   ]
  },
  {
   "cell_type": "code",
   "execution_count": 32,
   "id": "c726a988-ee9c-4122-b5ee-f3ab7fc19318",
   "metadata": {},
   "outputs": [],
   "source": [
    "delta = f_1(r0)/f_3_frac_delta(r0)"
   ]
  },
  {
   "cell_type": "markdown",
   "id": "d7d62908-93cd-45e7-be3f-cb670fb21752",
   "metadata": {},
   "source": [
    "#### Check"
   ]
  },
  {
   "cell_type": "code",
   "execution_count": 33,
   "id": "b1be40f9-b010-4778-8455-85c4817463b9",
   "metadata": {},
   "outputs": [
    {
     "name": "stdout",
     "output_type": "stream",
     "text": [
      "1.0868621484808272 5.208116641878006\n"
     ]
    }
   ],
   "source": [
    "print(gamma, delta)"
   ]
  },
  {
   "cell_type": "markdown",
   "id": "04c0e114-cf78-40d6-b824-9041594bc172",
   "metadata": {},
   "source": [
    "#### Than $f_{2}$ and $f_{3}$"
   ]
  },
  {
   "cell_type": "code",
   "execution_count": 34,
   "id": "52e0c023-9d4b-4d9c-bbf3-45ccf8e65605",
   "metadata": {},
   "outputs": [],
   "source": [
    "def f_2(r):\n",
    "    f_2= gamma * (1-m.exp(-10*r)*(10*r+1))/r**2\n",
    "    return f_2"
   ]
  },
  {
   "cell_type": "code",
   "execution_count": 35,
   "id": "5b3861e5-5861-411d-854d-e2831c031d72",
   "metadata": {},
   "outputs": [],
   "source": [
    "def f_3(r):\n",
    "    f_3=delta*(1-m.exp(-10*r))/r\n",
    "    return f_3"
   ]
  },
  {
   "cell_type": "markdown",
   "id": "692dc937-a2db-45dd-8707-cee7446325f3",
   "metadata": {},
   "source": [
    "#### Check"
   ]
  },
  {
   "cell_type": "code",
   "execution_count": 36,
   "id": "a101773a-5f35-428c-8a36-1a12cdbf3575",
   "metadata": {},
   "outputs": [
    {
     "name": "stdout",
     "output_type": "stream",
     "text": [
      "46.081252914247976 46.081252914247976 46.08125291424797\n"
     ]
    }
   ],
   "source": [
    "print(f_1(r0), f_2(r0), f_3(r0))"
   ]
  },
  {
   "cell_type": "markdown",
   "id": "36c38d2b-8377-4494-aaab-55e21e6e6d36",
   "metadata": {},
   "source": [
    "#### All possible value of $r_{t+\\epsilon}$"
   ]
  },
  {
   "cell_type": "code",
   "execution_count": 50,
   "id": "63cfa0f0-ee35-4fe6-a679-3ad86a0d1f49",
   "metadata": {},
   "outputs": [],
   "source": [
    "rd=0.9\n",
    "ru=1.25"
   ]
  },
  {
   "cell_type": "code",
   "execution_count": 51,
   "id": "0af53902-004b-4d2f-86ed-f788f070bd27",
   "metadata": {},
   "outputs": [],
   "source": [
    "r= [r0*ru*ru, r0*ru, r0*ru*rd, r0*ru, r0, r0*rd, r0*rd*ru, r0*rd, r0*rd*rd]"
   ]
  },
  {
   "cell_type": "code",
   "execution_count": 52,
   "id": "2abef183-c22e-499d-8806-e600762f3f97",
   "metadata": {},
   "outputs": [
    {
     "name": "stdout",
     "output_type": "stream",
     "text": [
      "[0.0390625, 0.03125, 0.028125, 0.03125, 0.025, 0.022500000000000003, 0.028125000000000004, 0.022500000000000003, 0.020250000000000004]\n"
     ]
    }
   ],
   "source": [
    "print(r)"
   ]
  },
  {
   "cell_type": "markdown",
   "id": "771b6e9d-9a65-4b17-b88b-b1e385e81d11",
   "metadata": {},
   "source": [
    "#### Value of $f_{i}(r_{t+\\epsilon})$"
   ]
  },
  {
   "cell_type": "code",
   "execution_count": 55,
   "id": "a6025a91-a5f3-470c-a9f0-f7abb2a14a62",
   "metadata": {},
   "outputs": [
    {
     "name": "stdout",
     "output_type": "stream",
     "text": [
      "44.07875742055068\n",
      "45.174404041361186\n",
      "45.62438572437472\n",
      "45.174404041361186\n",
      "46.081252914247976\n",
      "46.45179014197955\n",
      "45.624385724374704\n",
      "46.45179014197955\n",
      "46.78916652488571\n"
     ]
    }
   ],
   "source": [
    "for i in r:\n",
    "    print(f_1(i))\n",
    "    "
   ]
  },
  {
   "cell_type": "code",
   "execution_count": 56,
   "id": "7e148069-31ea-49c3-9c8b-eb296b2ee1ee",
   "metadata": {},
   "outputs": [
    {
     "name": "stdout",
     "output_type": "stream",
     "text": [
      "42.0648017804362\n",
      "44.244630692618365\n",
      "45.152335674583135\n",
      "44.244630692618365\n",
      "46.081252914247976\n",
      "46.84001661582965\n",
      "45.15233567458312\n",
      "46.84001661582965\n",
      "47.53503254710826\n"
     ]
    }
   ],
   "source": [
    "for i in r:\n",
    "    print(f_2(i))"
   ]
  },
  {
   "cell_type": "code",
   "execution_count": 57,
   "id": "4e6b237a-53b5-48fa-826b-e8295250c233",
   "metadata": {},
   "outputs": [
    {
     "name": "stdout",
     "output_type": "stream",
     "text": [
      "43.11369336896469\n",
      "44.728867497694615\n",
      "45.39818484659507\n",
      "44.728867497694615\n",
      "46.08125291424797\n",
      "46.63782373990204\n",
      "45.398184846595065\n",
      "46.63782373990204\n",
      "47.146576822813444\n"
     ]
    }
   ],
   "source": [
    "for i in r:\n",
    "    print(f_3(i))"
   ]
  },
  {
   "cell_type": "markdown",
   "id": "a4a9e052-9b2b-4771-8a35-748ebc3c1482",
   "metadata": {},
   "source": [
    "#### Define probability mass function of $r_{t+\\epsilon}$ "
   ]
  },
  {
   "cell_type": "code",
   "execution_count": 58,
   "id": "cc6676f0-a9fa-437d-a465-eb4e151112e5",
   "metadata": {},
   "outputs": [],
   "source": [
    "p=0.5\n",
    "q=0.5"
   ]
  },
  {
   "cell_type": "code",
   "execution_count": 59,
   "id": "3e51d9d3-96f7-4098-a23c-1e68efa82f8c",
   "metadata": {},
   "outputs": [],
   "source": [
    "pr = [p*p, p*(1-p-q), p*q, (1-p-q)*p, (1-p-q)**2, (1-p-q)*q, q*p, q*(1-p-q), q**2]"
   ]
  },
  {
   "cell_type": "markdown",
   "id": "1e788bf7-b7d5-44f4-bb16-879e44d8839a",
   "metadata": {},
   "source": [
    "#### Expected value of $f_{1}$ in function on probabilities $\\{p, q\\}$"
   ]
  },
  {
   "cell_type": "code",
   "execution_count": 69,
   "id": "27542d54-2e6e-4c83-a601-fca4442a974b",
   "metadata": {},
   "outputs": [],
   "source": [
    "def Exp_f1(x,y):\n",
    "    z = x**2*f_1(r[0])+(1-x-y)*x*f_1(r[1])+x*y*f_1(r[2])+(1-x-y)*x*f_1(r[3])+(1-x-y)**2*f_1(r[4])*(1-x-y)*y*f_1(r[5])+y*x*f_1(r[6])+y*(1-x-y)*f_1(r[7])+y**2*f_1(r[8])\n",
    "    return z"
   ]
  },
  {
   "cell_type": "markdown",
   "id": "2d9ad38d-1e83-484c-bfe2-7a2714694320",
   "metadata": {},
   "source": [
    "##### Y1=$f_{1}$ and $\\{j, k\\}$ = $\\{p, q\\}$"
   ]
  },
  {
   "cell_type": "code",
   "execution_count": 70,
   "id": "f5ffd209-20d3-414a-8e02-582fba829b9f",
   "metadata": {},
   "outputs": [
    {
     "name": "stdout",
     "output_type": "stream",
     "text": [
      "[85.62506540544817, 84.91750150424946, 84.20986143355009, 83.50214519335009, 82.7943527836494, 82.08648420444804, 81.378539455746, 80.67051853754337, 79.96242144984004, 79.25424819263606, 78.54599876593139, 77.83767316972606, 77.12927140402009, 76.42079346881344, 75.71223936410613, 75.00360908989816, 74.29490264618953, 73.58612003298022, 72.87726125027027, 72.16832629805964, 71.45931517634835, 70.75022788513641, 70.0410644244238, 69.33182479421052, 68.62250899449661, 67.91311702528202, 67.20364888656675, 66.49410457835083, 65.78448410063424, 65.074787453417, 64.36501463669909, 63.65516565048052, 62.94524049476128, 62.23523916954138, 61.52516167482082, 60.8150080105996, 60.104778176877716, 59.39447217365516, 58.684090000931945, 57.973631658708065, 57.26309714698355, 56.552486465758335, 55.84179961503247, 55.13103659480594, 54.42019740507876, 53.70928204585091, 52.99829051712239, 52.28722281889321, 51.57607895116338, 50.86485891393288, 50.153562707201715, 49.442190330969886, 48.73074178523739, 48.019217070004245, 47.30761618527043, 46.59593913103596, 45.88418590730082, 45.17235651406502, 44.46045095132856, 43.74846921909143, 43.03641131735364, 42.32427724611519, 41.61206700537606, 40.8997805951363, 40.187418015395856]\n"
     ]
    }
   ],
   "source": [
    "Y1 = []\n",
    "j=0.01\n",
    "while j < 0.66:\n",
    "    k=0.66-j\n",
    "    Y1.append(Exp_f1(j,k))\n",
    "    j+=0.01\n",
    "print(Y1)\n",
    "    "
   ]
  },
  {
   "cell_type": "markdown",
   "id": "632e71f9-c792-4531-8446-6c0caf3a8c52",
   "metadata": {},
   "source": [
    "#### Expected value of $f_{2}$ in function on probabilities $\\{p, q\\}$"
   ]
  },
  {
   "cell_type": "code",
   "execution_count": 71,
   "id": "484bad47-1462-4ca2-9229-b724f0f8720f",
   "metadata": {},
   "outputs": [],
   "source": [
    "def Exp_f2(x,y):\n",
    "    zz = x**2*f_2(r[0])+(1-x-y)*x*f_2(r[1])+x*y*f_2(r[2])+(1-x-y)*x*f_2(r[3])+(1-x-y)**2*f_2(r[4])*(1-x-y)*y*f_2(r[5])+y*x*f_2(r[6])+y*(1-x-y)*f_2(r[7])+y**2*f_2(r[8])\n",
    "    return zz"
   ]
  },
  {
   "cell_type": "markdown",
   "id": "a6c574a6-1491-4ad3-8370-6e5945c640d2",
   "metadata": {},
   "source": [
    "##### Y2=$f_{1}$ and $\\{j, k\\}$ = $\\{p, q\\}$"
   ]
  },
  {
   "cell_type": "code",
   "execution_count": 72,
   "id": "93450510-179e-4468-ab8f-25969716f2f5",
   "metadata": {},
   "outputs": [
    {
     "name": "stdout",
     "output_type": "stream",
     "text": [
      "[86.47037694718426, 85.73196545740296, 84.99341300021733, 84.25471957562739, 83.51588518363312, 82.77690982423451, 82.03779349743155, 81.29853620322436, 80.55913794161279, 79.8195987125969, 79.07991851617668, 78.34009735235212, 77.60013522112325, 76.86003212249007, 76.11978805645255, 75.37940302301071, 74.63887702216454, 73.89821005391406, 73.15740211825923, 72.4164532152001, 71.67536334473664, 70.93413250686883, 70.19276070159674, 69.4512479289203, 68.70959418883956, 67.96779948135448, 67.22586380646507, 66.48378716417133, 65.74156955447327, 64.9992109773709, 64.2567114328642, 63.51407092095315, 62.77128944163779, 62.028366994918116, 61.285303580794114, 60.542099199265785, 59.798753850333135, 59.05526753399616, 58.311640250254854, 57.56787199910922, 56.82396278055929, 56.079912594605005, 55.335721441246406, 54.591389320483486, 53.84691623231623, 53.102302176744665, 52.35754715376877, 51.61265116338855, 50.867614205604006, 50.12243628041513, 49.37711738782193, 48.631657527824416, 47.88605670042257, 47.14031490561641, 46.394432143405915, 45.648408413791095, 44.90224371677197, 44.155938052348496, 43.4094914205207, 42.662903821288594, 41.91617525465215, 41.1693057206114, 40.42229521916631, 39.6751437503169, 38.92785131406317]\n"
     ]
    }
   ],
   "source": [
    "Y2 = []\n",
    "j=0.01\n",
    "while j < 0.66:\n",
    "    k=0.66-j\n",
    "    Y2.append(Exp_f2(j,k))\n",
    "    j+=0.01\n",
    "print(Y2)"
   ]
  },
  {
   "cell_type": "markdown",
   "id": "959fecf6-58e3-4b71-9ffa-099e9fc3f5fc",
   "metadata": {},
   "source": [
    "#### Expected value of $f_{3}$ in function on probabilities $\\{p, q\\}$"
   ]
  },
  {
   "cell_type": "code",
   "execution_count": 73,
   "id": "740fd7c8-7e83-4e6e-887f-efc861464c84",
   "metadata": {},
   "outputs": [],
   "source": [
    "def Exp_f3(x, y):\n",
    "    zzz = x**2*f_3(r[0])+(1-x-y)*x*f_3(r[1])+x*y*f_3(r[2])+(1-x-y)*x*f_3(r[3])+(1-x-y)**2*f_3(r[4])*(1-x-y)*y*f_3(r[5])+y*x*f_3(r[6])+y*(1-x-y)*f_3(r[7])+y**2*f_3(r[8])\n",
    "    return zzz"
   ]
  },
  {
   "cell_type": "markdown",
   "id": "ed76669b-d773-4eed-a668-e411a9f70d74",
   "metadata": {},
   "source": [
    "##### Y3=$f_{1}$ and $\\{j, k\\}$ = $\\{p, q\\}$"
   ]
  },
  {
   "cell_type": "code",
   "execution_count": 67,
   "id": "97b7e306-b31c-40fb-a842-d046c02e5032",
   "metadata": {},
   "outputs": [
    {
     "name": "stdout",
     "output_type": "stream",
     "text": [
      "[86.03012883637557, 85.30778313054017, 84.58533020480446, 83.86277005916847, 83.1401026936322, 82.41732810819568, 81.69444630285881, 80.97145727762177, 80.24836103248438, 79.5251575674467, 78.80184688250874, 78.0784289776705, 77.35490385293197, 76.63127150829317, 75.9075319437541, 75.18368515931472, 74.45973115497507, 73.73566993073514, 73.01150148659494, 72.28722582255443, 71.56284293861364, 70.83835283477259, 70.11375551103124, 69.38905096738964, 68.66423920384774, 67.93932022040555, 67.21429401706307, 66.48916059382032, 65.76391995067728, 65.03857208763397, 64.31311700469037, 63.587554701846464, 62.8618851791023, 62.136108436457846, 61.41022447391312, 60.68423329146811, 59.95813488912281, 59.23192926687723, 58.50561642473137, 57.77919636268522, 57.052669080738795, 56.32603457889209, 55.599292857145095, 54.87244391549783, 54.145487753950256, 53.41842437250243, 52.6912537711543, 51.9639759499059, 51.236590908757215, 50.50909864770824, 49.781499166758984, 49.05379246590946, 48.325978545159636, 47.59805740450954, 46.87002904395916, 46.14189346350851, 45.41365066315755, 44.68530064290633, 43.95684340275482, 43.228278942703014, 42.49960726275094, 41.7708283628986, 41.041942243145954, 40.31294890349303, 39.58384834393981]\n"
     ]
    }
   ],
   "source": [
    "Y3 = []\n",
    "j=0.01\n",
    "while j < 0.66:\n",
    "    k=0.66-j\n",
    "    Y3.append(Exp_f3(j,k))\n",
    "    j+=0.01\n",
    "print(Y3)"
   ]
  },
  {
   "cell_type": "markdown",
   "id": "9b22dc48-2ac9-4b5b-b864-7130e94e9aa8",
   "metadata": {},
   "source": [
    "##### Extra: semplification of $f_{1}$ as in the equation (24)"
   ]
  },
  {
   "cell_type": "code",
   "execution_count": null,
   "id": "0c0f0cf6-c820-4c39-81c0-8493c9f215dd",
   "metadata": {},
   "outputs": [],
   "source": [
    "def Exp_f1_2(u,v):\n",
    "    z=u**2*(f_1(r[0])-2*f_1(r[1])+f_1(r[4]))+u*(2*f_1(r[1])-2*f_1(r[4]))+u*v*(2*f_1(r[2])-2*f_1(r[1])+2*f_1(r[4])-2*f_1(r[5]))+v*(2*f_1(r[5])-2*(f_1(r[4])))+v**2*(f_1(r[4])-2*f_1(r[5])+f_1(r[8]))+f_1(r[4])\n",
    "    return z  "
   ]
  },
  {
   "cell_type": "code",
   "execution_count": null,
   "id": "dd3862ff-d74c-44b0-bbbe-d52a52631a75",
   "metadata": {},
   "outputs": [],
   "source": []
  },
  {
   "cell_type": "code",
   "execution_count": null,
   "id": "e2c3ca25-b8b2-43f2-ba1b-f776dd920d8f",
   "metadata": {},
   "outputs": [],
   "source": []
  },
  {
   "cell_type": "code",
   "execution_count": null,
   "id": "c0708d13-8fa7-45ee-aa3b-ff1d8802a88b",
   "metadata": {},
   "outputs": [],
   "source": []
  },
  {
   "cell_type": "code",
   "execution_count": null,
   "id": "f63f55e4-3fa1-4be5-8a09-2da975f47b55",
   "metadata": {},
   "outputs": [],
   "source": []
  },
  {
   "cell_type": "code",
   "execution_count": null,
   "id": "3b109af6-84bc-48e9-9446-809499d68f46",
   "metadata": {},
   "outputs": [],
   "source": []
  },
  {
   "cell_type": "code",
   "execution_count": null,
   "id": "0fd984db-d2b1-4ecc-b12b-8575e7cf2aac",
   "metadata": {},
   "outputs": [],
   "source": []
  },
  {
   "cell_type": "code",
   "execution_count": null,
   "id": "1953cb37-5c40-45df-b24b-bddfe3d2b602",
   "metadata": {},
   "outputs": [],
   "source": []
  },
  {
   "cell_type": "code",
   "execution_count": null,
   "id": "4770f0b0-9c46-4d2b-8934-1565732d06a3",
   "metadata": {},
   "outputs": [],
   "source": []
  },
  {
   "cell_type": "code",
   "execution_count": null,
   "id": "89d948e2-3ba2-452a-be70-45bc4cfa918d",
   "metadata": {},
   "outputs": [],
   "source": []
  },
  {
   "cell_type": "code",
   "execution_count": null,
   "id": "f9c31a58-afe2-43d3-8e3f-52d04669bdd8",
   "metadata": {},
   "outputs": [],
   "source": []
  }
 ],
 "metadata": {
  "kernelspec": {
   "display_name": "Python 3 (ipykernel)",
   "language": "python",
   "name": "python3"
  },
  "language_info": {
   "codemirror_mode": {
    "name": "ipython",
    "version": 3
   },
   "file_extension": ".py",
   "mimetype": "text/x-python",
   "name": "python",
   "nbconvert_exporter": "python",
   "pygments_lexer": "ipython3",
   "version": "3.10.12"
  }
 },
 "nbformat": 4,
 "nbformat_minor": 5
}
